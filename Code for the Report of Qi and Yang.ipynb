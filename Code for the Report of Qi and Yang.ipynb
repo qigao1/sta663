{
 "cells": [
  {
   "cell_type": "markdown",
   "metadata": {},
   "source": [
    "# Test code"
   ]
  },
  {
   "cell_type": "markdown",
   "metadata": {},
   "source": [
    "### Installization"
   ]
  },
  {
   "cell_type": "code",
   "execution_count": 26,
   "metadata": {
    "scrolled": true
   },
   "outputs": [
    {
     "name": "stdout",
     "output_type": "stream",
     "text": [
      "running install\n",
      "running build\n",
      "running build_py\n",
      "running build_ext\n",
      "running install_lib\n",
      "running install_egg_info\n",
      "Removing /opt/conda/lib/python3.6/site-packages/kmeansmethods-1.0-py3.6.egg-info\n",
      "Writing /opt/conda/lib/python3.6/site-packages/kmeansmethods-1.0-py3.6.egg-info\n"
     ]
    }
   ],
   "source": [
    "%%bash\n",
    "cd kmeansmethods\n",
    "python3 setup.py install"
   ]
  },
  {
   "cell_type": "markdown",
   "metadata": {},
   "source": [
    "### Load package and prepare data"
   ]
  },
  {
   "cell_type": "code",
   "execution_count": 27,
   "metadata": {},
   "outputs": [],
   "source": [
    "import pandas as pd\n",
    "import numpy as np\n",
    "import random"
   ]
  },
  {
   "cell_type": "code",
   "execution_count": 28,
   "metadata": {},
   "outputs": [
    {
     "name": "stderr",
     "output_type": "stream",
     "text": [
      "--2018-05-03 01:33:29--  https://archive.ics.uci.edu/ml/machine-learning-databases/wine/wine.data\n",
      "Resolving archive.ics.uci.edu (archive.ics.uci.edu)... 128.195.10.249\n",
      "Connecting to archive.ics.uci.edu (archive.ics.uci.edu)|128.195.10.249|:443... connected.\n",
      "HTTP request sent, awaiting response... 200 OK\n",
      "Length: 10782 (11K) [text/plain]\n",
      "Saving to: ‘wine.data.10’\n",
      "\n",
      "     0K ..........                                            100%  186K=0.06s\n",
      "\n",
      "2018-05-03 01:33:30 (186 KB/s) - ‘wine.data.10’ saved [10782/10782]\n",
      "\n"
     ]
    }
   ],
   "source": [
    "%%bash\n",
    "wget https://archive.ics.uci.edu/ml/machine-learning-databases/wine/wine.data"
   ]
  },
  {
   "cell_type": "code",
   "execution_count": 29,
   "metadata": {},
   "outputs": [
    {
     "name": "stderr",
     "output_type": "stream",
     "text": [
      "--2018-05-03 01:33:30--  https://archive.ics.uci.edu/ml/machine-learning-databases/spambase/spambase.data\n",
      "Resolving archive.ics.uci.edu (archive.ics.uci.edu)... 128.195.10.249\n",
      "Connecting to archive.ics.uci.edu (archive.ics.uci.edu)|128.195.10.249|:443... connected.\n",
      "HTTP request sent, awaiting response... 200 OK\n",
      "Length: 702942 (686K) [text/plain]\n",
      "Saving to: ‘spambase.data.9’\n",
      "\n",
      "     0K .......... .......... .......... .......... ..........  7%  218K 3s\n",
      "    50K .......... .......... .......... .......... .......... 14%  903K 2s\n",
      "   100K .......... .......... .......... .......... .......... 21% 41.1M 1s\n",
      "   150K .......... .......... .......... .......... .......... 29%  904K 1s\n",
      "   200K .......... .......... .......... .......... .......... 36% 60.1M 1s\n",
      "   250K .......... .......... .......... .......... .......... 43%  907K 1s\n",
      "   300K .......... .......... .......... .......... .......... 50% 67.1M 0s\n",
      "   350K .......... .......... .......... .......... .......... 58% 57.6M 0s\n",
      "   400K .......... .......... .......... .......... .......... 65%  910K 0s\n",
      "   450K .......... .......... .......... .......... .......... 72% 75.6M 0s\n",
      "   500K .......... .......... .......... .......... .......... 80% 70.1M 0s\n",
      "   550K .......... .......... .......... .......... .......... 87%  943K 0s\n",
      "   600K .......... .......... .......... .......... .......... 94% 64.0M 0s\n",
      "   650K .......... .......... .......... ......               100% 90.1M=0.5s\n",
      "\n",
      "2018-05-03 01:33:31 (1.32 MB/s) - ‘spambase.data.9’ saved [702942/702942]\n",
      "\n"
     ]
    }
   ],
   "source": [
    "%%bash\n",
    "wget https://archive.ics.uci.edu/ml/machine-learning-databases/spambase/spambase.data"
   ]
  },
  {
   "cell_type": "code",
   "execution_count": 30,
   "metadata": {},
   "outputs": [
    {
     "data": {
      "text/html": [
       "<div>\n",
       "<style scoped>\n",
       "    .dataframe tbody tr th:only-of-type {\n",
       "        vertical-align: middle;\n",
       "    }\n",
       "\n",
       "    .dataframe tbody tr th {\n",
       "        vertical-align: top;\n",
       "    }\n",
       "\n",
       "    .dataframe thead th {\n",
       "        text-align: right;\n",
       "    }\n",
       "</style>\n",
       "<table border=\"1\" class=\"dataframe\">\n",
       "  <thead>\n",
       "    <tr style=\"text-align: right;\">\n",
       "      <th></th>\n",
       "      <th>1</th>\n",
       "      <th>14.23</th>\n",
       "      <th>1.71</th>\n",
       "      <th>2.43</th>\n",
       "      <th>15.6</th>\n",
       "      <th>127</th>\n",
       "      <th>2.8</th>\n",
       "      <th>3.06</th>\n",
       "      <th>.28</th>\n",
       "      <th>2.29</th>\n",
       "      <th>5.64</th>\n",
       "      <th>1.04</th>\n",
       "      <th>3.92</th>\n",
       "      <th>1065</th>\n",
       "    </tr>\n",
       "  </thead>\n",
       "  <tbody>\n",
       "    <tr>\n",
       "      <th>0</th>\n",
       "      <td>1</td>\n",
       "      <td>13.20</td>\n",
       "      <td>1.78</td>\n",
       "      <td>2.14</td>\n",
       "      <td>11.2</td>\n",
       "      <td>100</td>\n",
       "      <td>2.65</td>\n",
       "      <td>2.76</td>\n",
       "      <td>0.26</td>\n",
       "      <td>1.28</td>\n",
       "      <td>4.38</td>\n",
       "      <td>1.05</td>\n",
       "      <td>3.40</td>\n",
       "      <td>1050</td>\n",
       "    </tr>\n",
       "    <tr>\n",
       "      <th>1</th>\n",
       "      <td>1</td>\n",
       "      <td>13.16</td>\n",
       "      <td>2.36</td>\n",
       "      <td>2.67</td>\n",
       "      <td>18.6</td>\n",
       "      <td>101</td>\n",
       "      <td>2.80</td>\n",
       "      <td>3.24</td>\n",
       "      <td>0.30</td>\n",
       "      <td>2.81</td>\n",
       "      <td>5.68</td>\n",
       "      <td>1.03</td>\n",
       "      <td>3.17</td>\n",
       "      <td>1185</td>\n",
       "    </tr>\n",
       "    <tr>\n",
       "      <th>2</th>\n",
       "      <td>1</td>\n",
       "      <td>14.37</td>\n",
       "      <td>1.95</td>\n",
       "      <td>2.50</td>\n",
       "      <td>16.8</td>\n",
       "      <td>113</td>\n",
       "      <td>3.85</td>\n",
       "      <td>3.49</td>\n",
       "      <td>0.24</td>\n",
       "      <td>2.18</td>\n",
       "      <td>7.80</td>\n",
       "      <td>0.86</td>\n",
       "      <td>3.45</td>\n",
       "      <td>1480</td>\n",
       "    </tr>\n",
       "    <tr>\n",
       "      <th>3</th>\n",
       "      <td>1</td>\n",
       "      <td>13.24</td>\n",
       "      <td>2.59</td>\n",
       "      <td>2.87</td>\n",
       "      <td>21.0</td>\n",
       "      <td>118</td>\n",
       "      <td>2.80</td>\n",
       "      <td>2.69</td>\n",
       "      <td>0.39</td>\n",
       "      <td>1.82</td>\n",
       "      <td>4.32</td>\n",
       "      <td>1.04</td>\n",
       "      <td>2.93</td>\n",
       "      <td>735</td>\n",
       "    </tr>\n",
       "    <tr>\n",
       "      <th>4</th>\n",
       "      <td>1</td>\n",
       "      <td>14.20</td>\n",
       "      <td>1.76</td>\n",
       "      <td>2.45</td>\n",
       "      <td>15.2</td>\n",
       "      <td>112</td>\n",
       "      <td>3.27</td>\n",
       "      <td>3.39</td>\n",
       "      <td>0.34</td>\n",
       "      <td>1.97</td>\n",
       "      <td>6.75</td>\n",
       "      <td>1.05</td>\n",
       "      <td>2.85</td>\n",
       "      <td>1450</td>\n",
       "    </tr>\n",
       "  </tbody>\n",
       "</table>\n",
       "</div>"
      ],
      "text/plain": [
       "   1  14.23  1.71  2.43  15.6  127   2.8  3.06   .28  2.29  5.64  1.04  3.92  \\\n",
       "0  1  13.20  1.78  2.14  11.2  100  2.65  2.76  0.26  1.28  4.38  1.05  3.40   \n",
       "1  1  13.16  2.36  2.67  18.6  101  2.80  3.24  0.30  2.81  5.68  1.03  3.17   \n",
       "2  1  14.37  1.95  2.50  16.8  113  3.85  3.49  0.24  2.18  7.80  0.86  3.45   \n",
       "3  1  13.24  2.59  2.87  21.0  118  2.80  2.69  0.39  1.82  4.32  1.04  2.93   \n",
       "4  1  14.20  1.76  2.45  15.2  112  3.27  3.39  0.34  1.97  6.75  1.05  2.85   \n",
       "\n",
       "   1065  \n",
       "0  1050  \n",
       "1  1185  \n",
       "2  1480  \n",
       "3   735  \n",
       "4  1450  "
      ]
     },
     "execution_count": 30,
     "metadata": {},
     "output_type": "execute_result"
    }
   ],
   "source": [
    "testdata0 = pd.read_csv(\"wine.data\")\n",
    "testdata = np.array(testdata0)\n",
    "testdata0.head(5)"
   ]
  },
  {
   "cell_type": "code",
   "execution_count": 21,
   "metadata": {},
   "outputs": [
    {
     "data": {
      "text/html": [
       "<div>\n",
       "<style scoped>\n",
       "    .dataframe tbody tr th:only-of-type {\n",
       "        vertical-align: middle;\n",
       "    }\n",
       "\n",
       "    .dataframe tbody tr th {\n",
       "        vertical-align: top;\n",
       "    }\n",
       "\n",
       "    .dataframe thead th {\n",
       "        text-align: right;\n",
       "    }\n",
       "</style>\n",
       "<table border=\"1\" class=\"dataframe\">\n",
       "  <thead>\n",
       "    <tr style=\"text-align: right;\">\n",
       "      <th></th>\n",
       "      <th>0</th>\n",
       "      <th>0.64</th>\n",
       "      <th>0.64.1</th>\n",
       "      <th>0.1</th>\n",
       "      <th>0.32</th>\n",
       "      <th>0.2</th>\n",
       "      <th>0.3</th>\n",
       "      <th>0.4</th>\n",
       "      <th>0.5</th>\n",
       "      <th>0.6</th>\n",
       "      <th>...</th>\n",
       "      <th>0.40</th>\n",
       "      <th>0.41</th>\n",
       "      <th>0.42</th>\n",
       "      <th>0.778</th>\n",
       "      <th>0.43</th>\n",
       "      <th>0.44</th>\n",
       "      <th>3.756</th>\n",
       "      <th>61</th>\n",
       "      <th>278</th>\n",
       "      <th>1</th>\n",
       "    </tr>\n",
       "  </thead>\n",
       "  <tbody>\n",
       "    <tr>\n",
       "      <th>0</th>\n",
       "      <td>0.21</td>\n",
       "      <td>0.28</td>\n",
       "      <td>0.50</td>\n",
       "      <td>0.0</td>\n",
       "      <td>0.14</td>\n",
       "      <td>0.28</td>\n",
       "      <td>0.21</td>\n",
       "      <td>0.07</td>\n",
       "      <td>0.00</td>\n",
       "      <td>0.94</td>\n",
       "      <td>...</td>\n",
       "      <td>0.00</td>\n",
       "      <td>0.132</td>\n",
       "      <td>0.0</td>\n",
       "      <td>0.372</td>\n",
       "      <td>0.180</td>\n",
       "      <td>0.048</td>\n",
       "      <td>5.114</td>\n",
       "      <td>101</td>\n",
       "      <td>1028</td>\n",
       "      <td>1</td>\n",
       "    </tr>\n",
       "    <tr>\n",
       "      <th>1</th>\n",
       "      <td>0.06</td>\n",
       "      <td>0.00</td>\n",
       "      <td>0.71</td>\n",
       "      <td>0.0</td>\n",
       "      <td>1.23</td>\n",
       "      <td>0.19</td>\n",
       "      <td>0.19</td>\n",
       "      <td>0.12</td>\n",
       "      <td>0.64</td>\n",
       "      <td>0.25</td>\n",
       "      <td>...</td>\n",
       "      <td>0.01</td>\n",
       "      <td>0.143</td>\n",
       "      <td>0.0</td>\n",
       "      <td>0.276</td>\n",
       "      <td>0.184</td>\n",
       "      <td>0.010</td>\n",
       "      <td>9.821</td>\n",
       "      <td>485</td>\n",
       "      <td>2259</td>\n",
       "      <td>1</td>\n",
       "    </tr>\n",
       "    <tr>\n",
       "      <th>2</th>\n",
       "      <td>0.00</td>\n",
       "      <td>0.00</td>\n",
       "      <td>0.00</td>\n",
       "      <td>0.0</td>\n",
       "      <td>0.63</td>\n",
       "      <td>0.00</td>\n",
       "      <td>0.31</td>\n",
       "      <td>0.63</td>\n",
       "      <td>0.31</td>\n",
       "      <td>0.63</td>\n",
       "      <td>...</td>\n",
       "      <td>0.00</td>\n",
       "      <td>0.137</td>\n",
       "      <td>0.0</td>\n",
       "      <td>0.137</td>\n",
       "      <td>0.000</td>\n",
       "      <td>0.000</td>\n",
       "      <td>3.537</td>\n",
       "      <td>40</td>\n",
       "      <td>191</td>\n",
       "      <td>1</td>\n",
       "    </tr>\n",
       "    <tr>\n",
       "      <th>3</th>\n",
       "      <td>0.00</td>\n",
       "      <td>0.00</td>\n",
       "      <td>0.00</td>\n",
       "      <td>0.0</td>\n",
       "      <td>0.63</td>\n",
       "      <td>0.00</td>\n",
       "      <td>0.31</td>\n",
       "      <td>0.63</td>\n",
       "      <td>0.31</td>\n",
       "      <td>0.63</td>\n",
       "      <td>...</td>\n",
       "      <td>0.00</td>\n",
       "      <td>0.135</td>\n",
       "      <td>0.0</td>\n",
       "      <td>0.135</td>\n",
       "      <td>0.000</td>\n",
       "      <td>0.000</td>\n",
       "      <td>3.537</td>\n",
       "      <td>40</td>\n",
       "      <td>191</td>\n",
       "      <td>1</td>\n",
       "    </tr>\n",
       "    <tr>\n",
       "      <th>4</th>\n",
       "      <td>0.00</td>\n",
       "      <td>0.00</td>\n",
       "      <td>0.00</td>\n",
       "      <td>0.0</td>\n",
       "      <td>1.85</td>\n",
       "      <td>0.00</td>\n",
       "      <td>0.00</td>\n",
       "      <td>1.85</td>\n",
       "      <td>0.00</td>\n",
       "      <td>0.00</td>\n",
       "      <td>...</td>\n",
       "      <td>0.00</td>\n",
       "      <td>0.223</td>\n",
       "      <td>0.0</td>\n",
       "      <td>0.000</td>\n",
       "      <td>0.000</td>\n",
       "      <td>0.000</td>\n",
       "      <td>3.000</td>\n",
       "      <td>15</td>\n",
       "      <td>54</td>\n",
       "      <td>1</td>\n",
       "    </tr>\n",
       "  </tbody>\n",
       "</table>\n",
       "<p>5 rows × 58 columns</p>\n",
       "</div>"
      ],
      "text/plain": [
       "      0  0.64  0.64.1  0.1  0.32   0.2   0.3   0.4   0.5   0.6 ...  0.40  \\\n",
       "0  0.21  0.28    0.50  0.0  0.14  0.28  0.21  0.07  0.00  0.94 ...  0.00   \n",
       "1  0.06  0.00    0.71  0.0  1.23  0.19  0.19  0.12  0.64  0.25 ...  0.01   \n",
       "2  0.00  0.00    0.00  0.0  0.63  0.00  0.31  0.63  0.31  0.63 ...  0.00   \n",
       "3  0.00  0.00    0.00  0.0  0.63  0.00  0.31  0.63  0.31  0.63 ...  0.00   \n",
       "4  0.00  0.00    0.00  0.0  1.85  0.00  0.00  1.85  0.00  0.00 ...  0.00   \n",
       "\n",
       "    0.41  0.42  0.778   0.43   0.44  3.756   61   278  1  \n",
       "0  0.132   0.0  0.372  0.180  0.048  5.114  101  1028  1  \n",
       "1  0.143   0.0  0.276  0.184  0.010  9.821  485  2259  1  \n",
       "2  0.137   0.0  0.137  0.000  0.000  3.537   40   191  1  \n",
       "3  0.135   0.0  0.135  0.000  0.000  3.537   40   191  1  \n",
       "4  0.223   0.0  0.000  0.000  0.000  3.000   15    54  1  \n",
       "\n",
       "[5 rows x 58 columns]"
      ]
     },
     "execution_count": 21,
     "metadata": {},
     "output_type": "execute_result"
    }
   ],
   "source": [
    "spam0 = pd.read_csv(\"spambase.data\")\n",
    "spam = np.array(spam0)\n",
    "spam0.head(5)"
   ]
  },
  {
   "cell_type": "markdown",
   "metadata": {},
   "source": [
    "# python "
   ]
  },
  {
   "cell_type": "code",
   "execution_count": 22,
   "metadata": {},
   "outputs": [],
   "source": [
    "import kmeanspython"
   ]
  },
  {
   "cell_type": "markdown",
   "metadata": {},
   "source": [
    "#####  using k-meansII to calculate the initial and final cost as well as the number of loops to reach the final converged centers\n",
    "##### k=10"
   ]
  },
  {
   "cell_type": "code",
   "execution_count": 85,
   "metadata": {},
   "outputs": [
    {
     "name": "stdout",
     "output_type": "stream",
     "text": [
      "1754057.026931061 5.0 265380.6032977672\n"
     ]
    },
    {
     "name": "stderr",
     "output_type": "stream",
     "text": [
      "/opt/conda/lib/python3.6/site-packages/kmeanspython/kmeansinitvv.py:18: RuntimeWarning: invalid value encountered in true_divide\n",
      "  prob = np.multiply(dislist / phi, l)\n",
      "/opt/conda/lib/python3.6/site-packages/kmeanspython/kmeansinitvv.py:20: RuntimeWarning: invalid value encountered in greater\n",
      "  C = np.vstack((C, X[prob > ran]))\n"
     ]
    },
    {
     "name": "stdout",
     "output_type": "stream",
     "text": [
      "1452914.4273500957 2.0 242011.32536787068\n",
      "1527528.4110262585 1.0 251686.98700369892\n"
     ]
    }
   ],
   "source": [
    "k=10\n",
    "r=5\n",
    "data=testdata\n",
    "\n",
    "    \n",
    "    \n",
    "dislist = [] \n",
    "l=k/2\n",
    "phi1=list(range(11))\n",
    "count=list(range(11))\n",
    "cost=list(range(11))\n",
    "for j in range(11):\n",
    "    c=kmeanspython.kmeansinitvv(data,k,l)\n",
    "    for i in range(len(data)): \n",
    "        dist = np.apply_along_axis(np.linalg.norm, 1, c - data[i].reshape((1,-1))) \n",
    "        dislist.append(np.square(np.min(dist))) \n",
    "        phi1[j] = np.sum(dislist)\n",
    "    a=kmeanspython.kmeansloop(data, c)\n",
    "    count[j]=a[2]\n",
    "    cost[j]=a[3]\n",
    "print(np.median(phi1),np.median(count),np.median(cost))\n",
    "\n",
    "dislist = [] \n",
    "l=k\n",
    "phi1=list(range(11))\n",
    "count=list(range(11))\n",
    "cost=list(range(11))\n",
    "for j in range(11):\n",
    "    c=kmeanspython.kmeansinitvv(data,k,l)\n",
    "    for i in range(len(data)): \n",
    "        dist = np.apply_along_axis(np.linalg.norm, 1, c - data[i].reshape((1,-1))) \n",
    "        dislist.append(np.square(np.min(dist))) \n",
    "        phi1[j] = np.sum(dislist)\n",
    "    a=kmeanspython.kmeansloop(data, c)\n",
    "    count[j]=a[2]\n",
    "    cost[j]=a[3]\n",
    "print(np.median(phi1),np.median(count),np.median(cost))\n",
    "\n",
    "dislist = [] \n",
    "l=2*k\n",
    "phi1=list(range(11))\n",
    "count=list(range(11))\n",
    "cost=list(range(11))\n",
    "for j in range(11):\n",
    "    c=kmeanspython.kmeansinitvv(data,k,l)\n",
    "    for i in range(len(data)): \n",
    "        dist = np.apply_along_axis(np.linalg.norm, 1, c - data[i].reshape((1,-1))) \n",
    "        dislist.append(np.square(np.min(dist))) \n",
    "        phi1[j] = np.sum(dislist)\n",
    "    a=kmeanspython.kmeansloop(data, c)\n",
    "    count[j]=a[2]\n",
    "    cost[j]=a[3]\n",
    "print(np.median(phi1),np.median(count),np.median(cost))"
   ]
  },
  {
   "attachments": {},
   "cell_type": "markdown",
   "metadata": {},
   "source": [
    "#### the outcome above corresponding to the median initial cost, median number of loops and median final cost of l=k/2, l=k and l=2*k for k=10 using k-means||"
   ]
  },
  {
   "cell_type": "markdown",
   "metadata": {},
   "source": [
    "#####  using k-meansII to calculate the initial and final cost as well as the number of loops to reach the final converged centers\n",
    "##### k=20"
   ]
  },
  {
   "cell_type": "code",
   "execution_count": 83,
   "metadata": {},
   "outputs": [
    {
     "name": "stdout",
     "output_type": "stream",
     "text": [
      "494178.81395087537 2.0 81760.98145894626\n"
     ]
    },
    {
     "name": "stderr",
     "output_type": "stream",
     "text": [
      "/opt/conda/lib/python3.6/site-packages/kmeanspython/kmeansinitvv.py:18: RuntimeWarning: invalid value encountered in true_divide\n",
      "  prob = np.multiply(dislist / phi, l)\n",
      "/opt/conda/lib/python3.6/site-packages/kmeanspython/kmeansinitvv.py:20: RuntimeWarning: invalid value encountered in greater\n",
      "  C = np.vstack((C, X[prob > ran]))\n"
     ]
    },
    {
     "name": "stdout",
     "output_type": "stream",
     "text": [
      "578891.3348312117 1.0 87014.96623991797\n",
      "480204.0264347653 1.0 79466.72738685185\n"
     ]
    }
   ],
   "source": [
    "k=20\n",
    "r=5\n",
    "data=testdata\n",
    "\n",
    "    \n",
    "    \n",
    "dislist = [] \n",
    "l=k/2\n",
    "phi1=list(range(11))\n",
    "count=list(range(11))\n",
    "cost=list(range(11))\n",
    "for j in range(11):\n",
    "    c=kmeanspython.kmeansinitvv(data,k,l)\n",
    "    for i in range(len(data)): \n",
    "        dist = np.apply_along_axis(np.linalg.norm, 1, c - data[i].reshape((1,-1))) \n",
    "        dislist.append(np.square(np.min(dist))) \n",
    "        phi1[j] = np.sum(dislist)\n",
    "    a=kmeanspython.kmeansloop(data, c)\n",
    "    count[j]=a[2]\n",
    "    cost[j]=a[3]\n",
    "print(np.median(phi1),np.median(count),np.median(cost))\n",
    "\n",
    "dislist = [] \n",
    "l=k\n",
    "phi1=list(range(11))\n",
    "count=list(range(11))\n",
    "cost=list(range(11))\n",
    "for j in range(11):\n",
    "    c=kmeanspython.kmeansinitvv(data,k,l)\n",
    "    for i in range(len(data)): \n",
    "        dist = np.apply_along_axis(np.linalg.norm, 1, c - data[i].reshape((1,-1))) \n",
    "        dislist.append(np.square(np.min(dist))) \n",
    "        phi1[j] = np.sum(dislist)\n",
    "    a=kmeanspython.kmeansloop(data, c)\n",
    "    count[j]=a[2]\n",
    "    cost[j]=a[3]\n",
    "print(np.median(phi1),np.median(count),np.median(cost))\n",
    "\n",
    "dislist = [] \n",
    "l=2*k\n",
    "phi1=list(range(11))\n",
    "count=list(range(11))\n",
    "cost=list(range(11))\n",
    "for j in range(11):\n",
    "    c=kmeanspython.kmeansinitvv(data,k,l)\n",
    "    for i in range(len(data)): \n",
    "        dist = np.apply_along_axis(np.linalg.norm, 1, c - data[i].reshape((1,-1))) \n",
    "        dislist.append(np.square(np.min(dist))) \n",
    "        phi1[j] = np.sum(dislist)\n",
    "    a=kmeanspython.kmeansloop(data, c)\n",
    "    count[j]=a[2]\n",
    "    cost[j]=a[3]\n",
    "print(np.median(phi1),np.median(count),np.median(cost))"
   ]
  },
  {
   "cell_type": "markdown",
   "metadata": {},
   "source": [
    "###### the outcome above corresponding to the median initial cost, median number of loops and median final cost of l=k/2, l=k and l=2*k for k=20 using k-means||"
   ]
  },
  {
   "cell_type": "markdown",
   "metadata": {},
   "source": [
    "##### using k-meansII to calculate the initial and final cost as well as the number of loops to reach the final converged centers\n",
    "##### k=50"
   ]
  },
  {
   "cell_type": "code",
   "execution_count": 84,
   "metadata": {},
   "outputs": [
    {
     "name": "stderr",
     "output_type": "stream",
     "text": [
      "/opt/conda/lib/python3.6/site-packages/kmeanspython/kmeansinitvv.py:18: RuntimeWarning: invalid value encountered in true_divide\n",
      "  prob = np.multiply(dislist / phi, l)\n",
      "/opt/conda/lib/python3.6/site-packages/kmeanspython/kmeansinitvv.py:20: RuntimeWarning: invalid value encountered in greater\n",
      "  C = np.vstack((C, X[prob > ran]))\n"
     ]
    },
    {
     "name": "stdout",
     "output_type": "stream",
     "text": [
      "116758.71804923366 1.0 19124.612777566905\n",
      "114490.5019661449 1.0 19259.700759320724\n",
      "116726.88771934822 1.0 19242.653944117345\n"
     ]
    }
   ],
   "source": [
    "k=50\n",
    "r=5\n",
    "data=testdata\n",
    "\n",
    "    \n",
    "    \n",
    "dislist = [] \n",
    "l=k/2\n",
    "phi1=list(range(11))\n",
    "count=list(range(11))\n",
    "cost=list(range(11))\n",
    "for j in range(11):\n",
    "    c=kmeanspython.kmeansinitvv(data,k,l)\n",
    "    for i in range(len(data)): \n",
    "        dist = np.apply_along_axis(np.linalg.norm, 1, c - data[i].reshape((1,-1))) \n",
    "        dislist.append(np.square(np.min(dist))) \n",
    "        phi1[j] = np.sum(dislist)\n",
    "    a=kmeanspython.kmeansloop(data, c)\n",
    "    count[j]=a[2]\n",
    "    cost[j]=a[3]\n",
    "print(np.median(phi1),np.median(count),np.median(cost))\n",
    "\n",
    "dislist = [] \n",
    "l=k\n",
    "phi1=list(range(11))\n",
    "count=list(range(11))\n",
    "cost=list(range(11))\n",
    "for j in range(11):\n",
    "    c=kmeanspython.kmeansinitvv(data,k,l)\n",
    "    for i in range(len(data)): \n",
    "        dist = np.apply_along_axis(np.linalg.norm, 1, c - data[i].reshape((1,-1))) \n",
    "        dislist.append(np.square(np.min(dist))) \n",
    "        phi1[j] = np.sum(dislist)\n",
    "    a=kmeanspython.kmeansloop(data, c)\n",
    "    count[j]=a[2]\n",
    "    cost[j]=a[3]\n",
    "print(np.median(phi1),np.median(count),np.median(cost))\n",
    "\n",
    "dislist = [] \n",
    "l=2*k\n",
    "phi1=list(range(11))\n",
    "count=list(range(11))\n",
    "cost=list(range(11))\n",
    "for j in range(11):\n",
    "    c=kmeanspython.kmeansinitvv(data,k,l)\n",
    "    for i in range(len(data)): \n",
    "        dist = np.apply_along_axis(np.linalg.norm, 1, c - data[i].reshape((1,-1))) \n",
    "        dislist.append(np.square(np.min(dist))) \n",
    "        phi1[j] = np.sum(dislist)\n",
    "    a=kmeanspython.kmeansloop(data, c)\n",
    "    count[j]=a[2]\n",
    "    cost[j]=a[3]\n",
    "print(np.median(phi1),np.median(count),np.median(cost))"
   ]
  },
  {
   "cell_type": "markdown",
   "metadata": {},
   "source": [
    "###### the outcome above corresponding to the median initial cost, median number of loops and median final cost of l=k/2, l=k and l=2*k for k=50 using k-means||"
   ]
  },
  {
   "cell_type": "markdown",
   "metadata": {},
   "source": [
    "##### using k-means to calculate the initial and final cost as well as the number of loops to reach the final converged centers\n",
    "##### k=10, 20 and 50"
   ]
  },
  {
   "cell_type": "code",
   "execution_count": 86,
   "metadata": {},
   "outputs": [
    {
     "name": "stdout",
     "output_type": "stream",
     "text": [
      "8185898.45434438 12.0 424426.8814704716\n",
      "3584380.4559159596 8.0 113876.28027923015\n",
      "444891.23323353997 6.0 28683.47911021135\n"
     ]
    }
   ],
   "source": [
    "data=testdata\n",
    "\n",
    "dislist = [] \n",
    "k=10\n",
    "phi1=list(range(11))\n",
    "count=list(range(11))\n",
    "cost=list(range(11))\n",
    "for j in range(11):\n",
    "    c=kmeanspython.kmeansinit(data,k)\n",
    "    for i in range(len(data)): \n",
    "        dist = np.apply_along_axis(np.linalg.norm, 1, c - data[i].reshape((1,-1))) \n",
    "        dislist.append(np.square(np.min(dist))) \n",
    "        phi1[j] = np.sum(dislist)\n",
    "    a=kmeanspython.kmeansloop(data, c)\n",
    "    count[j]=a[2]\n",
    "    cost[j]=a[3]\n",
    "print(np.median(phi1),np.median(count),np.median(cost))\n",
    "\n",
    "dislist = [] \n",
    "k=20\n",
    "phi1=list(range(11))\n",
    "count=list(range(11))\n",
    "cost=list(range(11))\n",
    "for j in range(11):\n",
    "    c=kmeanspython.kmeansinit(data,k)\n",
    "    for i in range(len(data)): \n",
    "        dist = np.apply_along_axis(np.linalg.norm, 1, c - data[i].reshape((1,-1))) \n",
    "        dislist.append(np.square(np.min(dist))) \n",
    "        phi1[j] = np.sum(dislist)\n",
    "    a=kmeanspython.kmeansloop(data, c)\n",
    "    count[j]=a[2]\n",
    "    cost[j]=a[3]\n",
    "print(np.median(phi1),np.median(count),np.median(cost))\n",
    "\n",
    "dislist = [] \n",
    "k=50\n",
    "phi1=list(range(11))\n",
    "count=list(range(11))\n",
    "cost=list(range(11))\n",
    "for j in range(11):\n",
    "    c=kmeanspython.kmeansinit(data,k)\n",
    "    for i in range(len(data)): \n",
    "        dist = np.apply_along_axis(np.linalg.norm, 1, c - data[i].reshape((1,-1))) \n",
    "        dislist.append(np.square(np.min(dist))) \n",
    "        phi1[j] = np.sum(dislist)\n",
    "    a=kmeanspython.kmeansloop(data, c)\n",
    "    count[j]=a[2]\n",
    "    cost[j]=a[3]\n",
    "print(np.median(phi1),np.median(count),np.median(cost))"
   ]
  },
  {
   "cell_type": "markdown",
   "metadata": {},
   "source": [
    "###### the outcome above corresponding to the median initial cost, median number of loops and median final cost for k=10, k=20 and k=50 using k-means"
   ]
  },
  {
   "cell_type": "markdown",
   "metadata": {},
   "source": [
    "##### using k-means++ to calculate the initial and final cost as well as the number of loops to reach the final converged centers\n",
    "##### k=10, 20 and 50"
   ]
  },
  {
   "cell_type": "code",
   "execution_count": 87,
   "metadata": {},
   "outputs": [
    {
     "name": "stdout",
     "output_type": "stream",
     "text": [
      "2996598.47173866 6.0 241661.50019192143\n",
      "894864.78411318 6.0 91555.11045518154\n",
      "199062.75523358 4.0 19953.451836554286\n"
     ]
    }
   ],
   "source": [
    "data=testdata\n",
    "\n",
    "dislist = [] \n",
    "k=10\n",
    "phi1=list(range(11))\n",
    "count=list(range(11))\n",
    "cost=list(range(11))\n",
    "for j in range(11):\n",
    "    c=kmeanspython.kmeansinitpp(data,k)\n",
    "    for i in range(len(data)): \n",
    "        dist = np.apply_along_axis(np.linalg.norm, 1, c - data[i].reshape((1,-1))) \n",
    "        dislist.append(np.square(np.min(dist))) \n",
    "        phi1[j] = np.sum(dislist)\n",
    "    a=kmeanspython.kmeansloop(data, c)\n",
    "    count[j]=a[2]\n",
    "    cost[j]=a[3]\n",
    "print(np.median(phi1),np.median(count),np.median(cost))\n",
    "\n",
    "dislist = [] \n",
    "k=20\n",
    "phi1=list(range(11))\n",
    "count=list(range(11))\n",
    "cost=list(range(11))\n",
    "for j in range(11):\n",
    "    c=kmeanspython.kmeansinitpp(data,k)\n",
    "    for i in range(len(data)): \n",
    "        dist = np.apply_along_axis(np.linalg.norm, 1, c - data[i].reshape((1,-1))) \n",
    "        dislist.append(np.square(np.min(dist))) \n",
    "        phi1[j] = np.sum(dislist)\n",
    "    a=kmeanspython.kmeansloop(data, c)\n",
    "    count[j]=a[2]\n",
    "    cost[j]=a[3]\n",
    "print(np.median(phi1),np.median(count),np.median(cost))\n",
    "\n",
    "dislist = [] \n",
    "k=50\n",
    "phi1=list(range(11))\n",
    "count=list(range(11))\n",
    "cost=list(range(11))\n",
    "for j in range(11):\n",
    "    c=kmeanspython.kmeansinitpp(data,k)\n",
    "    for i in range(len(data)): \n",
    "        dist = np.apply_along_axis(np.linalg.norm, 1, c - data[i].reshape((1,-1))) \n",
    "        dislist.append(np.square(np.min(dist))) \n",
    "        phi1[j] = np.sum(dislist)\n",
    "    a=kmeanspython.kmeansloop(data, c)\n",
    "    count[j]=a[2]\n",
    "    cost[j]=a[3]\n",
    "print(np.median(phi1),np.median(count),np.median(cost))"
   ]
  },
  {
   "cell_type": "markdown",
   "metadata": {},
   "source": [
    "###### the outcome above corresponding to the median initial cost, median number of loops and median final cost for k=10, k=20 and k=50 using k-means++"
   ]
  },
  {
   "cell_type": "code",
   "execution_count": null,
   "metadata": {},
   "outputs": [],
   "source": []
  },
  {
   "attachments": {},
   "cell_type": "markdown",
   "metadata": {},
   "source": [
    "# the mean time of each loop "
   ]
  },
  {
   "cell_type": "markdown",
   "metadata": {},
   "source": [
    "#### k=10"
   ]
  },
  {
   "cell_type": "code",
   "execution_count": 92,
   "metadata": {},
   "outputs": [
    {
     "name": "stdout",
     "output_type": "stream",
     "text": [
      "411 ms ± 210 ms per loop (mean ± std. dev. of 7 runs, 1 loop each)\n",
      "445 ms ± 75.5 ms per loop (mean ± std. dev. of 7 runs, 1 loop each)\n",
      "2.41 s ± 197 ms per loop (mean ± std. dev. of 7 runs, 1 loop each)\n"
     ]
    },
    {
     "name": "stderr",
     "output_type": "stream",
     "text": [
      "/opt/conda/lib/python3.6/site-packages/kmeanspython/kmeansinitvv.py:18: RuntimeWarning: invalid value encountered in true_divide\n",
      "  prob = np.multiply(dislist / phi, l)\n",
      "/opt/conda/lib/python3.6/site-packages/kmeanspython/kmeansinitvv.py:20: RuntimeWarning: invalid value encountered in greater\n",
      "  C = np.vstack((C, X[prob > ran]))\n"
     ]
    },
    {
     "name": "stdout",
     "output_type": "stream",
     "text": [
      "4.3 s ± 184 ms per loop (mean ± std. dev. of 7 runs, 1 loop each)\n"
     ]
    },
    {
     "name": "stderr",
     "output_type": "stream",
     "text": [
      "/opt/conda/lib/python3.6/site-packages/kmeanspython/kmeansinitvv.py:18: RuntimeWarning: invalid value encountered in true_divide\n",
      "  prob = np.multiply(dislist / phi, l)\n",
      "/opt/conda/lib/python3.6/site-packages/kmeanspython/kmeansinitvv.py:20: RuntimeWarning: invalid value encountered in greater\n",
      "  C = np.vstack((C, X[prob > ran]))\n"
     ]
    },
    {
     "name": "stdout",
     "output_type": "stream",
     "text": [
      "5.62 s ± 313 ms per loop (mean ± std. dev. of 7 runs, 1 loop each)\n"
     ]
    }
   ],
   "source": [
    "k=10\n",
    "r=5\n",
    "data=testdata\n",
    "\n",
    "\n",
    "%timeit kmeanspython.kmeansloop(data, kmeanspython.kmeansinit(data,k))\n",
    "%timeit kmeanspython.kmeansloop(data, kmeanspython.kmeansinitpp(data,k))\n",
    "\n",
    "l=k/2\n",
    "%timeit kmeanspython.kmeansloop(data, kmeanspython.kmeansinitvv(data,k,l),maxiter=r,tol=1e-4)\n",
    "\n",
    "l=k\n",
    "%timeit kmeanspython.kmeansloop(data, kmeanspython.kmeansinitvv(data,k,l),maxiter=r,tol=1e-4)\n",
    "\n",
    "l=2*k\n",
    "%timeit kmeanspython.kmeansloop(data, kmeanspython.kmeansinitvv(data,k,l),maxiter=r,tol=1e-4)\n"
   ]
  },
  {
   "cell_type": "markdown",
   "metadata": {},
   "source": [
    "###### the outcome above corresponding to the mean time for each loop for k=10 using k-means and k-means++ and l=k/2, l=k and l=2*k for k=10  using k-means||"
   ]
  },
  {
   "cell_type": "markdown",
   "metadata": {},
   "source": [
    "#### k=20"
   ]
  },
  {
   "cell_type": "code",
   "execution_count": 93,
   "metadata": {},
   "outputs": [
    {
     "name": "stdout",
     "output_type": "stream",
     "text": [
      "556 ms ± 177 ms per loop (mean ± std. dev. of 7 runs, 1 loop each)\n",
      "1.04 s ± 112 ms per loop (mean ± std. dev. of 7 runs, 1 loop each)\n",
      "4.75 s ± 379 ms per loop (mean ± std. dev. of 7 runs, 1 loop each)\n"
     ]
    },
    {
     "name": "stderr",
     "output_type": "stream",
     "text": [
      "/opt/conda/lib/python3.6/site-packages/kmeanspython/kmeansinitvv.py:18: RuntimeWarning: invalid value encountered in true_divide\n",
      "  prob = np.multiply(dislist / phi, l)\n",
      "/opt/conda/lib/python3.6/site-packages/kmeanspython/kmeansinitvv.py:20: RuntimeWarning: invalid value encountered in greater\n",
      "  C = np.vstack((C, X[prob > ran]))\n"
     ]
    },
    {
     "name": "stdout",
     "output_type": "stream",
     "text": [
      "6.19 s ± 209 ms per loop (mean ± std. dev. of 7 runs, 1 loop each)\n"
     ]
    },
    {
     "name": "stderr",
     "output_type": "stream",
     "text": [
      "/opt/conda/lib/python3.6/site-packages/kmeanspython/kmeansinitvv.py:18: RuntimeWarning: invalid value encountered in true_divide\n",
      "  prob = np.multiply(dislist / phi, l)\n",
      "/opt/conda/lib/python3.6/site-packages/kmeanspython/kmeansinitvv.py:20: RuntimeWarning: invalid value encountered in greater\n",
      "  C = np.vstack((C, X[prob > ran]))\n"
     ]
    },
    {
     "name": "stdout",
     "output_type": "stream",
     "text": [
      "6.84 s ± 150 ms per loop (mean ± std. dev. of 7 runs, 1 loop each)\n"
     ]
    }
   ],
   "source": [
    "k=20\n",
    "r=5\n",
    "data=testdata\n",
    "\n",
    "\n",
    "%timeit kmeanspython.kmeansloop(data, kmeanspython.kmeansinit(data,k))\n",
    "%timeit kmeanspython.kmeansloop(data, kmeanspython.kmeansinitpp(data,k))\n",
    "\n",
    "l=k/2\n",
    "%timeit kmeanspython.kmeansloop(data, kmeanspython.kmeansinitvv(data,k,l),maxiter=r,tol=1e-4)\n",
    "\n",
    "l=k\n",
    "%timeit kmeanspython.kmeansloop(data, kmeanspython.kmeansinitvv(data,k,l),maxiter=r,tol=1e-4)\n",
    "\n",
    "l=2*k\n",
    "%timeit kmeanspython.kmeansloop(data, kmeanspython.kmeansinitvv(data,k,l),maxiter=r,tol=1e-4)\n"
   ]
  },
  {
   "cell_type": "markdown",
   "metadata": {},
   "source": [
    "###### the outcome above corresponding to the mean time for each loop for k=20 using k-means and k-means++ and l=k/2, l=k and l=2*k for k=20  using k-means||"
   ]
  },
  {
   "cell_type": "markdown",
   "metadata": {},
   "source": [
    "#### k=50"
   ]
  },
  {
   "cell_type": "code",
   "execution_count": 79,
   "metadata": {},
   "outputs": [
    {
     "name": "stdout",
     "output_type": "stream",
     "text": [
      "593 ms ± 71.7 ms per loop (mean ± std. dev. of 7 runs, 1 loop each)\n",
      "3.74 s ± 134 ms per loop (mean ± std. dev. of 7 runs, 1 loop each)\n"
     ]
    },
    {
     "name": "stderr",
     "output_type": "stream",
     "text": [
      "/opt/conda/lib/python3.6/site-packages/kmeanspython/kmeansinitvv.py:18: RuntimeWarning: invalid value encountered in true_divide\n",
      "  prob = np.multiply(dislist / phi, l)\n",
      "/opt/conda/lib/python3.6/site-packages/kmeanspython/kmeansinitvv.py:20: RuntimeWarning: invalid value encountered in greater\n",
      "  C = np.vstack((C, X[prob > ran]))\n"
     ]
    },
    {
     "name": "stdout",
     "output_type": "stream",
     "text": [
      "9.24 s ± 266 ms per loop (mean ± std. dev. of 7 runs, 1 loop each)\n"
     ]
    },
    {
     "name": "stderr",
     "output_type": "stream",
     "text": [
      "/opt/conda/lib/python3.6/site-packages/kmeanspython/kmeansinitvv.py:18: RuntimeWarning: invalid value encountered in true_divide\n",
      "  prob = np.multiply(dislist / phi, l)\n",
      "/opt/conda/lib/python3.6/site-packages/kmeanspython/kmeansinitvv.py:20: RuntimeWarning: invalid value encountered in greater\n",
      "  C = np.vstack((C, X[prob > ran]))\n"
     ]
    },
    {
     "name": "stdout",
     "output_type": "stream",
     "text": [
      "9.84 s ± 226 ms per loop (mean ± std. dev. of 7 runs, 1 loop each)\n"
     ]
    },
    {
     "name": "stderr",
     "output_type": "stream",
     "text": [
      "/opt/conda/lib/python3.6/site-packages/kmeanspython/kmeansinitvv.py:18: RuntimeWarning: invalid value encountered in true_divide\n",
      "  prob = np.multiply(dislist / phi, l)\n",
      "/opt/conda/lib/python3.6/site-packages/kmeanspython/kmeansinitvv.py:20: RuntimeWarning: invalid value encountered in greater\n",
      "  C = np.vstack((C, X[prob > ran]))\n"
     ]
    },
    {
     "name": "stdout",
     "output_type": "stream",
     "text": [
      "9.87 s ± 164 ms per loop (mean ± std. dev. of 7 runs, 1 loop each)\n"
     ]
    }
   ],
   "source": [
    "k=50\n",
    "r=5\n",
    "data=testdata\n",
    "\n",
    "\n",
    "%timeit kmeanspython.kmeansloop(data, kmeanspython.kmeansinit(data,k))\n",
    "%timeit kmeanspython.kmeansloop(data, kmeanspython.kmeansinitpp(data,k))\n",
    "\n",
    "l=k/2\n",
    "%timeit kmeanspython.kmeansloop(data, kmeanspython.kmeansinitvv(data,k,l),maxiter=r,tol=1e-4)\n",
    "\n",
    "l=k\n",
    "%timeit kmeanspython.kmeansloop(data, kmeanspython.kmeansinitvv(data,k,l),maxiter=r,tol=1e-4)\n",
    "\n",
    "l=2*k\n",
    "%timeit kmeanspython.kmeansloop(data, kmeanspython.kmeansinitvv(data,k,l),maxiter=r,tol=1e-4)\n"
   ]
  },
  {
   "cell_type": "markdown",
   "metadata": {},
   "source": [
    "###### the outcome above corresponding to the mean time for each loop for k=50 using k-means and k-means++ and l=k/2, l=k and l=2*k for k=50  using k-means||"
   ]
  },
  {
   "cell_type": "markdown",
   "metadata": {},
   "source": [
    "# cython"
   ]
  },
  {
   "cell_type": "code",
   "execution_count": 23,
   "metadata": {},
   "outputs": [],
   "source": [
    "import kmeanscython"
   ]
  },
  {
   "cell_type": "markdown",
   "metadata": {},
   "source": [
    "#### time to apply k-means in cython \n",
    "#### k=10"
   ]
  },
  {
   "cell_type": "code",
   "execution_count": 13,
   "metadata": {},
   "outputs": [
    {
     "name": "stdout",
     "output_type": "stream",
     "text": [
      "171 ms ± 77.3 ms per loop (mean ± std. dev. of 7 runs, 1 loop each)\n",
      "211 ms ± 11.5 ms per loop (mean ± std. dev. of 7 runs, 10 loops each)\n",
      "1.47 s ± 152 ms per loop (mean ± std. dev. of 7 runs, 1 loop each)\n",
      "2.93 s ± 172 ms per loop (mean ± std. dev. of 7 runs, 1 loop each)\n",
      "3.97 s ± 99.9 ms per loop (mean ± std. dev. of 7 runs, 1 loop each)\n"
     ]
    }
   ],
   "source": [
    "k=10\n",
    "r=5\n",
    "data=testdata\n",
    "\n",
    "\n",
    "%timeit kmeanscython.kmeansloop_cython(data, kmeanscython.kmeansinit_cython(data,k))\n",
    "%timeit kmeanscython.kmeansloop_cython(data, kmeanscython.kmeansinitpp_cython(data,k))\n",
    "\n",
    "l=k/2\n",
    "%timeit kmeanscython.kmeansloop_cython(data, kmeanscython.kmeansinitvv_cython(data,k,l),maxiter=r,tol=1e-4)\n",
    "\n",
    "l=k\n",
    "%timeit kmeanscython.kmeansloop_cython(data, kmeanscython.kmeansinitvv_cython(data,k,l),maxiter=r,tol=1e-4)\n",
    "\n",
    "l=2*k\n",
    "%timeit kmeanscython.kmeansloop_cython(data, kmeanscython.kmeansinitvv_cython(data,k,l),maxiter=r,tol=1e-4)\n"
   ]
  },
  {
   "cell_type": "markdown",
   "metadata": {},
   "source": [
    "###### the outcome above corresponding to the mean time for each loop for k=10 using k-means and k-means++ and l=k/2, l=k and l=2*k for k=10  using k-means|| with Cython"
   ]
  },
  {
   "cell_type": "markdown",
   "metadata": {},
   "source": [
    "#### time to apply k-means, kmeans++ and kmeansII in cython \n",
    "#### k=20"
   ]
  },
  {
   "cell_type": "code",
   "execution_count": 24,
   "metadata": {},
   "outputs": [
    {
     "name": "stdout",
     "output_type": "stream",
     "text": [
      "281 ms ± 33.4 ms per loop (mean ± std. dev. of 7 runs, 10 loops each)\n",
      "594 ms ± 98.8 ms per loop (mean ± std. dev. of 7 runs, 1 loop each)\n",
      "3.15 s ± 227 ms per loop (mean ± std. dev. of 7 runs, 1 loop each)\n",
      "4.16 s ± 171 ms per loop (mean ± std. dev. of 7 runs, 1 loop each)\n",
      "4.77 s ± 229 ms per loop (mean ± std. dev. of 7 runs, 1 loop each)\n"
     ]
    }
   ],
   "source": [
    "k=20\n",
    "r=5\n",
    "data=testdata\n",
    "\n",
    "\n",
    "%timeit kmeanscython.kmeansloop_cython(data, kmeanscython.kmeansinit_cython(data,k))\n",
    "%timeit kmeanscython.kmeansloop_cython(data, kmeanscython.kmeansinitpp_cython(data,k))\n",
    "\n",
    "l=k/2\n",
    "%timeit kmeanscython.kmeansloop_cython(data, kmeanscython.kmeansinitvv_cython(data,k,l),maxiter=r,tol=1e-4)\n",
    "\n",
    "l=k\n",
    "%timeit kmeanscython.kmeansloop_cython(data, kmeanscython.kmeansinitvv_cython(data,k,l),maxiter=r,tol=1e-4)\n",
    "\n",
    "l=2*k\n",
    "%timeit kmeanscython.kmeansloop_cython(data, kmeanscython.kmeansinitvv_cython(data,k,l),maxiter=r,tol=1e-4)\n"
   ]
  },
  {
   "cell_type": "markdown",
   "metadata": {},
   "source": [
    "###### the outcome above corresponding to the mean time for each loop for k=20 using k-means and k-means++ and l=k/2, l=k and l=2*k for k=20  using k-means|| with Cython"
   ]
  },
  {
   "cell_type": "markdown",
   "metadata": {},
   "source": [
    "#### time to apply k-means, kmeans++ and kmeansII in cython \n",
    "#### k=50"
   ]
  },
  {
   "cell_type": "code",
   "execution_count": 25,
   "metadata": {},
   "outputs": [
    {
     "name": "stdout",
     "output_type": "stream",
     "text": [
      "448 ms ± 113 ms per loop (mean ± std. dev. of 7 runs, 1 loop each)\n",
      "2.15 s ± 105 ms per loop (mean ± std. dev. of 7 runs, 1 loop each)\n",
      "6.14 s ± 180 ms per loop (mean ± std. dev. of 7 runs, 1 loop each)\n",
      "6.57 s ± 96.8 ms per loop (mean ± std. dev. of 7 runs, 1 loop each)\n",
      "6.74 s ± 116 ms per loop (mean ± std. dev. of 7 runs, 1 loop each)\n"
     ]
    }
   ],
   "source": [
    "k=50\n",
    "r=5\n",
    "data=testdata\n",
    "\n",
    "\n",
    "%timeit kmeanscython.kmeansloop_cython(data, kmeanscython.kmeansinit_cython(data,k))\n",
    "%timeit kmeanscython.kmeansloop_cython(data, kmeanscython.kmeansinitpp_cython(data,k))\n",
    "\n",
    "l=k/2\n",
    "%timeit kmeanscython.kmeansloop_cython(data, kmeanscython.kmeansinitvv_cython(data,k,l),maxiter=r,tol=1e-4)\n",
    "\n",
    "l=k\n",
    "%timeit kmeanscython.kmeansloop_cython(data, kmeanscython.kmeansinitvv_cython(data,k,l),maxiter=r,tol=1e-4)\n",
    "\n",
    "l=2*k\n",
    "%timeit kmeanscython.kmeansloop_cython(data, kmeanscython.kmeansinitvv_cython(data,k,l),maxiter=r,tol=1e-4)\n"
   ]
  },
  {
   "cell_type": "markdown",
   "metadata": {},
   "source": [
    "###### the outcome above corresponding to the mean time for each loop for k=50 using k-means and k-means++ and l=k/2, l=k and l=2*k for k=50  using k-means|| with Cython"
   ]
  },
  {
   "attachments": {},
   "cell_type": "markdown",
   "metadata": {},
   "source": [
    "# Applications to simulated data set"
   ]
  },
  {
   "cell_type": "code",
   "execution_count": 1,
   "metadata": {},
   "outputs": [
    {
     "name": "stderr",
     "output_type": "stream",
     "text": [
      "/opt/conda/lib/python3.6/site-packages/ipykernel_launcher.py:5: DeprecationWarning: Use importlib.util.find_spec() instead.\n",
      "  \"\"\"\n"
     ]
    }
   ],
   "source": [
    "import pandas as pd\n",
    "import numpy as np\n",
    "import random\n",
    "import kmeanspython\n",
    "import kmeanscython\n",
    "from functools import partial"
   ]
  },
  {
   "cell_type": "code",
   "execution_count": 2,
   "metadata": {},
   "outputs": [],
   "source": [
    "from sklearn import datasets\n",
    "iris = datasets.load_iris()"
   ]
  },
  {
   "cell_type": "code",
   "execution_count": 3,
   "metadata": {},
   "outputs": [],
   "source": [
    "result = np.zeros((6,150))\n",
    "result[0] = np.repeat(np.array([0,1,2]), 50)\n",
    "result[1] = np.repeat(np.array([0,2,1]), 50)\n",
    "result[2] = np.repeat(np.array([1,0,2]), 50)\n",
    "result[3] = np.repeat(np.array([1,2,0]), 50)\n",
    "result[4] = np.repeat(np.array([2,0,1]), 50)\n",
    "result[5] = np.repeat(np.array([2,1,0]), 50)"
   ]
  },
  {
   "cell_type": "code",
   "execution_count": 4,
   "metadata": {},
   "outputs": [],
   "source": [
    "def check_acc(f):\n",
    "    reslis = []\n",
    "    for i in range(100):\n",
    "        init = f(iris.data, 3)\n",
    "        temp = kmeanspython.kmeansloop(iris.data, init, 10)\n",
    "        templis = np.zeros(6)\n",
    "        for j in range(6):\n",
    "            templis[j] = np.sum(temp[1] == result[j])\n",
    "        reslis.append(np.max(templis))\n",
    "    return np.mean(np.array(reslis) / 150)"
   ]
  },
  {
   "cell_type": "code",
   "execution_count": 5,
   "metadata": {},
   "outputs": [],
   "source": [
    "km = kmeanspython.kmeansinit\n",
    "kmp = kmeanspython.kmeansinitpp\n",
    "kmv2 = partial(kmeanspython.kmeansinitvv, l = 2)"
   ]
  },
  {
   "cell_type": "code",
   "execution_count": 6,
   "metadata": {},
   "outputs": [
    {
     "name": "stdout",
     "output_type": "stream",
     "text": [
      "kmeans \t 0.7953333333333333\n",
      "kmeans++ \t 0.8645333333333335\n",
      "kmeans||, l=2 \t 0.8612000000000001\n"
     ]
    }
   ],
   "source": [
    "print(\"kmeans\", \"\\t\", check_acc(km))\n",
    "print(\"kmeans++\", \"\\t\", check_acc(kmp))\n",
    "print(\"kmeans||, l=2\", \"\\t\", check_acc(kmv2))"
   ]
  },
  {
   "attachments": {},
   "cell_type": "markdown",
   "metadata": {},
   "source": [
    "After creating the simulated data set, we applied our methods to clustering the raw data and calculate the how many observations are correctly assigned to the true cluster. The probabilities above are the proportion of observations that are assigned to the correct cluster by corresponding method."
   ]
  },
  {
   "cell_type": "code",
   "execution_count": null,
   "metadata": {},
   "outputs": [],
   "source": []
  },
  {
   "cell_type": "code",
   "execution_count": null,
   "metadata": {},
   "outputs": [],
   "source": []
  }
 ],
 "metadata": {
  "kernelspec": {
   "display_name": "Python 3",
   "language": "python",
   "name": "python3"
  },
  "language_info": {
   "codemirror_mode": {
    "name": "ipython",
    "version": 3
   },
   "file_extension": ".py",
   "mimetype": "text/x-python",
   "name": "python",
   "nbconvert_exporter": "python",
   "pygments_lexer": "ipython3",
   "version": "3.6.5"
  }
 },
 "nbformat": 4,
 "nbformat_minor": 2
}
